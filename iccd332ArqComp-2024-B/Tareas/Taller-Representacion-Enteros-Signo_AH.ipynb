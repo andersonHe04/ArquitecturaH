{
 "cells": [
  {
   "cell_type": "markdown",
   "metadata": {},
   "source": [
    "<div align=\"center\">\n",
    "<h1>Arquitectura de Computadores</h1>\n",
    "<h2>Representación de Números Enteros con Signo</h2>\n",
    "</div>\n",
    "\n",
    "\n",
    "**Name:** Anderson Herrera\n",
    "\n",
    "**Fecha:** 01-11-2024\n",
    "\n",
    "**Instrucciones**\n",
    "1. Utilice este cuaderno de Jupyter para completar la tabla con los valores obtenidos en clase para representar números enteros decimales con signo en:\n",
    "\n",
    "- Complemento a 1 (base disminuída)\n",
    "    - Complemento a 1 en binario: $Comp^1_{bin}$\n",
    "    - Complemento a 1 en hexadecimal: $Comp^1_{HEX}$\n",
    "- Complemento a 2 (base):\n",
    "    - $Comp^2_{bin}$\n",
    "    - $Comp^2_{HEX}$\n",
    "- Signo Magnitud:\n",
    "    - $SIGNO-MAG_{bin}$\n",
    "    - $SIGNO-MAG_{bin}$\n",
    "\n",
    "2. Guarde el cuaderno de Jupyter y suba el archivo *.ipynb\n",
    "3. Exporte el cuaderno de Jupyter a PDF y suba también el PDF\n",
    "\n",
    "\n",
    "Puede utilizar el resto del cuaderno para realizar cálculos de apoyo si requiere.\n",
    "\n",
    "\n"
   ]
  },
  {
   "cell_type": "markdown",
   "metadata": {},
   "source": [
    "Represente los siguientes números enteros con signo en sus equivalentes en complemento a 1, complemento a 2 y signo magnitud\n",
    "\n",
    "| DEC      |$Comp^1_{bin}$                   | $Comp^1_{HEX}$ | $Comp^2_{bin}$ | $Comp^2_{HEX}$  | $SIGNO-MAG_{bin}$ | $SIGNO-MAG_{bin}$ |\n",
    "|----------|---------------------------------|----------------|----------------|-----------------|-------------------|-------------------|\n",
    "| +9       |   00001001                      |      0x09      |    00001001    |      0x09       |      00001001     |        0x09       |\n",
    "| -9       |   11110110                      |      0xF6      |    11110111    |      0xF7       |      10001001     |        0x89       |\n",
    "| +52      |   00110100                      |      0x34      |    00110100    |      0x34       |      00110100     |        0x34       |\n",
    "| -52      |   11001011                      |      0xCB      |    11001100    |      0xCC       |      10110100     |        0xB4       |\n",
    "| +183     |No se puede representar en 8 bits                                                                                            |\n",
    "| -183     |No se puede representar en 8 bits                                                                                            |\n",
    "| +101     |   01100101                      |      0x65      |    01100101    |      0x65       |      01100101     |        0x65       |\n",
    "| -101     |   10011010                      |      0x9A      |    10011011    |      0x9B       |      11100101     |        0xE5       |\n",
    "| +200     |No se puede representar en 8 bits                                                                                            |\n",
    "| -200     |No se puede representar en 8 bits                                                                                            |\n",
    "| +128     |No se puede representar en 8 bits                                                                                            |\n",
    "| -128     |   01111111                      |      0x7F      |    10000000    |      0x80       |         -         |         -         |\n"
   ]
  },
  {
   "cell_type": "code",
   "execution_count": null,
   "metadata": {},
   "outputs": [],
   "source": []
  }
 ],
 "metadata": {
  "kernelspec": {
   "display_name": "Python 3 (ipykernel)",
   "language": "python",
   "name": "python3"
  },
  "language_info": {
   "codemirror_mode": {
    "name": "ipython",
    "version": 3
   },
   "file_extension": ".py",
   "mimetype": "text/x-python",
   "name": "python",
   "nbconvert_exporter": "python",
   "pygments_lexer": "ipython3",
   "version": "3.11.10"
  }
 },
 "nbformat": 4,
 "nbformat_minor": 4
}
