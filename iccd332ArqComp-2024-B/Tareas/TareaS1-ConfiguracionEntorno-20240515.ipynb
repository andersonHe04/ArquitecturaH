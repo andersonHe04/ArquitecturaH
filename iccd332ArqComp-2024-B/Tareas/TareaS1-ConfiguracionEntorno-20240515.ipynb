{
 "cells": [
  {
   "cell_type": "markdown",
   "id": "7ee0ab64-395a-43a7-9af5-f281901a15c6",
   "metadata": {},
   "source": [
    "# Tarea Configuración de Entorno WSL\n",
    "\n",
    "## Asignatura ICCD332 Arquitectura de Computadores\n",
    "\n",
    "Nombre: Anderson Joel Herrera Panchi\n",
    "\n",
    "Fecha: 2024-10-27"
   ]
  },
  {
   "cell_type": "markdown",
   "id": "d7f81cd0-a514-450f-84af-aa36681a71aa",
   "metadata": {},
   "source": [
    "## Instalación de Entorno de Mamba/Anaconda\n",
    "\n",
    "<img src=\"Imagenes1/mamba_inf.png\" width=\"800\" height=\"500\">"
   ]
  },
  {
   "cell_type": "markdown",
   "id": "ddde5b35",
   "metadata": {},
   "source": [
    "## Instalación de Python\n",
    "\n",
    "<img src=\"imagenes/Python_Vers.png\" width=\"800\" height=\"350\">"
   ]
  },
  {
   "cell_type": "markdown",
   "id": "963152dc",
   "metadata": {},
   "source": [
    "## Instalación de Emacs\n",
    "\n",
    "<img src=\"Imagenes1/Emacs_Vers.png\" width=\"800\" height=\"350\">"
   ]
  },
  {
   "cell_type": "markdown",
   "id": "da16f31c",
   "metadata": {},
   "source": [
    "## Instalación de Latex\n",
    "\n",
    "<img src=\"Imagenes1/Latex_Vers.png\" width=\"800\" height=\"350\">"
   ]
  },
  {
   "cell_type": "code",
   "execution_count": null,
   "id": "c414686b-8d60-44b3-bfaf-7c714546e818",
   "metadata": {},
   "outputs": [],
   "source": []
  }
 ],
 "metadata": {
  "kernelspec": {
   "display_name": "Python 3 (ipykernel)",
   "language": "python",
   "name": "python3"
  },
  "language_info": {
   "codemirror_mode": {
    "name": "ipython",
    "version": 3
   },
   "file_extension": ".py",
   "mimetype": "text/x-python",
   "name": "python",
   "nbconvert_exporter": "python",
   "pygments_lexer": "ipython3",
   "version": "3.11.10"
  }
 },
 "nbformat": 4,
 "nbformat_minor": 5
}
