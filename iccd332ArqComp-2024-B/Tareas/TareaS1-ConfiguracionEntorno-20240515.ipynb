{
 "cells": [
  {
   "cell_type": "markdown",
   "id": "7ee0ab64-395a-43a7-9af5-f281901a15c6",
   "metadata": {},
   "source": [
    "# Tarea Configuración de Entorno WSL\n",
    "\n",
    "## Asignatura ICCD332 Arquitectura de Computadores\n",
    "\n",
    "Nombre: \n",
    "\n",
    "Fecha: 2024-05-15\n",
    "\n",
    "Adjunte capturas como evidencia de la configuración e instalación del entorno de trabajo en el subsistema de Linux para Windows; o alternativamente de las instalaciones de los paquetes en Linux, si ya tiene un sistema operativo Unix instalado en su máquina. Las imágenes pueden contenerse dentro de una celda en **Markdown** usando código html como el siguiente\n",
    "\n",
    "`<img src=\"ruta/al/archivo.png\" width=\"300\" height=\"200\">`\n",
    "\n",
    "En este caso suba un zip con el cuaderno jupyter, y la carpeta de imágenes para revisar su trabajo. A futuro lo mejor será trabajar desde GitHub directamente\n",
    "\n"
   ]
  },
  {
   "cell_type": "markdown",
   "id": "c4f5713e-9daf-47ea-8cef-ea03da167e26",
   "metadata": {},
   "source": [
    "## Pasos para editar el cuaderno de jupyter\n",
    "\n",
    "2. Desde un terminal con entorno de **anaconda/mamba** active el entorno de trabajo iccd332: `mamba activate iccd332`\n",
    "1. Puede clonar o hacer un [fork](https://desarrolloweb.com/articulos/fork-git) del repositorio. Puede trabajar directamente desde la carpeta clonada o desde su entorno una vez realizado el proceso de **fork** (puede revisar el enlace para más información)\n",
    "3. Desde el terminal arrancamos jupyter-lab con el comando: `jupyter-lab`. Alternativamente, si usa Visual Studio Code y están instalados los complementos necesarios para ejecutar cuadernos de jupyter puede invocar desde la ubicación del terminal con `.code`. En cualquiera de los casos edite el archivo presente con sus respuestas.\n",
    "4. El comando genera un token para acceder desde un buscador de internet. Localice el archivo *TareaS1-ConfiguracionEntorno-20240515.ipynb* y resuelva los ejercicios y problemas propuestos. Recuerde que si requiere escribir matemáticamente puede usar la sintaxix de latex. Puede usar de referencia el [Undergrad Math Latex](cheatsheet). Para escribir en **MarkDown** Puede consultar: [referencia](https://medium.com/analytics-vidhya/the-ultimate-markdown-guide-for-jupyter-notebook-d5e5abf728fd)\n",
    "5. Guarde los cambios usando el menu File/Save Notebook y también puede exportar a PDF o Html usando **Save and Export Notebook As**\n",
    "\n"
   ]
  },
  {
   "cell_type": "markdown",
   "id": "d7f81cd0-a514-450f-84af-aa36681a71aa",
   "metadata": {},
   "source": [
    "## Instalación de Entorno de Mamba/Anaconda\n",
    "\n",
    "1. Active WSL (Windows Subsystem for Linux) desde un terminal o desde la aplicación\n",
    "2. Ejecute el comando `mamba info`\n",
    "3. Coloque la captura respectiva en la imagen\n",
    "4. En caso de que `mamba info` sea rechazado, recuerde activar el entorno con `mamba activate`\n",
    "\n",
    "<img src="../images/mamba.png\" width=\"800\" height=\"500\">"
   ]
  },
  {
   "cell_type": "markdown",
   "id": "ddde5b35",
   "metadata": {},
   "source": [
    "## Instalación de Python\n",
    "\n",
    "1. Active WSL (Windows Subsystem for Linux) desde un terminal o desde la aplicación\n",
    "2. Active el entorno creado *iccd332*: `mamba activate iccd332`\n",
    "3. Ejecute el comando `python --version`\n",
    "3. Coloque la captura respectiva en la imagen\n",
    "\n",
    "\n",
    "<img src=\"../images/pythonVersion.png\" width=\"800\" height=\"350\">"
   ]
  },
  {
   "cell_type": "markdown",
   "id": "963152dc",
   "metadata": {},
   "source": [
    "## Instalación de Emacs\n",
    "\n",
    "1. Active WSL (Windows Subsystem for Linux) desde un terminal o desde la aplicación\n",
    "2. Ejecute el comando `emacs --version`\n",
    "3. Coloque la captura respectiva en la imagen\n",
    "\n",
    "\n",
    "<img src=\"../images/emacsVersion.png\" width=\"800\" height=\"350\">"
   ]
  },
  {
   "cell_type": "markdown",
   "id": "da16f31c",
   "metadata": {},
   "source": [
    "## Instalación de Latex\n",
    "\n",
    "1. Active WSL (Windows Subsystem for Linux) desde un terminal o desde la aplicación\n",
    "2. Ejecute el comando `latex --version`\n",
    "3. Coloque la captura respectiva en la imagen\n",
    "\n",
    "\n",
    "<img src=\"../images/latexVersion.png\" width=\"800\" height=\"350\">"
   ]
  }
 ],
 "metadata": {
  "kernelspec": {
   "display_name": "tfwin",
   "language": "python",
   "name": "python3"
  },
  "language_info": {
   "codemirror_mode": {
    "name": "ipython",
    "version": 3
   },
   "file_extension": ".py",
   "mimetype": "text/x-python",
   "name": "python",
   "nbconvert_exporter": "python",
   "pygments_lexer": "ipython3",
   "version": "3.9.20"
  }
 },
 "nbformat": 4,
 "nbformat_minor": 5
}
